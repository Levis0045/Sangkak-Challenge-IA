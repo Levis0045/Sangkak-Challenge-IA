{
  "nbformat": 4,
  "nbformat_minor": 0,
  "metadata": {
    "colab": {
      "provenance": []
    },
    "kernelspec": {
      "name": "python3",
      "display_name": "Python 3"
    },
    "language_info": {
      "name": "python"
    },
    "accelerator": "GPU",
    "gpuClass": "standard"
  },
  "cells": [
    {
      "cell_type": "code",
      "execution_count": null,
      "metadata": {
        "colab": {
          "base_uri": "https://localhost:8080/"
        },
        "id": "fUVGNTG_jiai",
        "outputId": "9ab1ca24-b641-4256-e82f-0c699d62c1a7"
      },
      "outputs": [
        {
          "output_type": "stream",
          "name": "stdout",
          "text": [
            "Drive already mounted at /content/drive; to attempt to forcibly remount, call drive.mount(\"/content/drive\", force_remount=True).\n"
          ]
        }
      ],
      "source": [
        "from google.colab import drive\n",
        "drive.mount(\"/content/drive\")"
      ]
    },
    {
      "cell_type": "code",
      "source": [
        "cd /content/drive/My Drive/sangkak_challenge"
      ],
      "metadata": {
        "id": "bN1TaRMqj99r",
        "colab": {
          "base_uri": "https://localhost:8080/"
        },
        "outputId": "f5542fbd-b42b-49ff-c841-174d139f1c45"
      },
      "execution_count": null,
      "outputs": [
        {
          "output_type": "stream",
          "name": "stdout",
          "text": [
            "/content/drive/My Drive/sangkak_challenge\n"
          ]
        }
      ]
    },
    {
      "cell_type": "code",
      "source": [
        "#!git clone https://github.com/masakhane-io/masakhane-ner.git\n"
      ],
      "metadata": {
        "id": "A_u-dLE8kG6b"
      },
      "execution_count": null,
      "outputs": []
    },
    {
      "cell_type": "code",
      "source": [
        "#!pip install transformers"
      ],
      "metadata": {
        "id": "3362g6A7lRBn"
      },
      "execution_count": null,
      "outputs": []
    },
    {
      "cell_type": "markdown",
      "source": [
        "##Description\n",
        "NER: process to recognize words or sentences that mention\n",
        "entities (Locations, Persons, Organization, etc...) in a textual.\n",
        "\n",
        "Exemple:              ![download.png](data:image/png;base64,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)"
      ],
      "metadata": {
        "id": "NhCSDT9tDErn"
      }
    },
    {
      "cell_type": "markdown",
      "source": [
        "##Problem\n",
        "Which AI algorithm would be more appropriate to detect entities named in Ghomala and by extension to Bantu languages?\n",
        "\n",
        "To encounter this problem, We decided here to model the problem as a classification problem where we will use classification algorithms to predict words tags and classify them in a sentence. \n",
        "There are several classification algorithms, some of which we will experiment with below"
      ],
      "metadata": {
        "id": "qaQzCtidE8nO"
      }
    },
    {
      "cell_type": "code",
      "source": [],
      "metadata": {
        "id": "X0MLQ8jtZT3C"
      },
      "execution_count": null,
      "outputs": []
    },
    {
      "cell_type": "code",
      "source": [
        "#We import our librairies\n",
        "import pandas as pd\n",
        "import numpy as np\n",
        "from sklearn.feature_extraction import DictVectorizer\n",
        "from sklearn.feature_extraction.text import HashingVectorizer\n",
        "from sklearn.linear_model import Perceptron\n",
        "from sklearn.model_selection import train_test_split\n",
        "from sklearn.linear_model import SGDClassifier\n",
        "from sklearn.linear_model import PassiveAggressiveClassifier\n",
        "from sklearn.naive_bayes import MultinomialNB\n",
        "from sklearn.metrics import classification_report"
      ],
      "metadata": {
        "id": "qqqLWWy2ZTPV"
      },
      "execution_count": null,
      "outputs": []
    },
    {
      "cell_type": "markdown",
      "source": [
        "#### Load the datasets"
      ],
      "metadata": {
        "id": "cBGK_fUW9g6G"
      }
    },
    {
      "cell_type": "code",
      "source": [
        "df_train = pd.read_csv('/content/drive/MyDrive/sangkak_challenge/masakhane-ner/MasakhaNER2.0/data/bbj/train.txt',sep=' ', header=None, names=[\"Words\", \"Tags\"] )"
      ],
      "metadata": {
        "id": "UyZiMFrKZq6V"
      },
      "execution_count": null,
      "outputs": []
    },
    {
      "cell_type": "code",
      "source": [
        "df_test = pd.read_csv('/content/drive/MyDrive/sangkak_challenge/masakhane-ner/MasakhaNER2.0/data/bbj/test.txt',sep=' ', header=None, names=[\"Words\", \"Tags\"] )\n",
        "df_dev = pd.read_csv('/content/drive/MyDrive/sangkak_challenge/masakhane-ner/MasakhaNER2.0/data/bbj/dev.txt',sep=' ', header=None, names=[\"Words\", \"Tags\"] )"
      ],
      "metadata": {
        "id": "0Gh87gRDefZZ"
      },
      "execution_count": null,
      "outputs": []
    },
    {
      "cell_type": "code",
      "source": [
        "len(df_train)"
      ],
      "metadata": {
        "colab": {
          "base_uri": "https://localhost:8080/"
        },
        "id": "JY2w1hgZWq3v",
        "outputId": "ac008bb1-ca24-41cc-e157-c0d9c925b9a7"
      },
      "execution_count": null,
      "outputs": [
        {
          "output_type": "execute_result",
          "data": {
            "text/plain": [
              "47239"
            ]
          },
          "metadata": {},
          "execution_count": 6
        }
      ]
    },
    {
      "cell_type": "code",
      "source": [
        "len(df_test)"
      ],
      "metadata": {
        "colab": {
          "base_uri": "https://localhost:8080/"
        },
        "id": "NCwwTAc3Xfwv",
        "outputId": "6cbe8a97-1b6b-4287-90e0-905b89036b27"
      },
      "execution_count": null,
      "outputs": [
        {
          "output_type": "execute_result",
          "data": {
            "text/plain": [
              "14958"
            ]
          },
          "metadata": {},
          "execution_count": 7
        }
      ]
    },
    {
      "cell_type": "code",
      "source": [
        "len(df_dev)"
      ],
      "metadata": {
        "colab": {
          "base_uri": "https://localhost:8080/"
        },
        "id": "Ml8_bTkjXlR6",
        "outputId": "5ef25d62-3396-49f1-ab26-bc0116d8ae8d"
      },
      "execution_count": null,
      "outputs": [
        {
          "output_type": "execute_result",
          "data": {
            "text/plain": [
              "7262"
            ]
          },
          "metadata": {},
          "execution_count": 8
        }
      ]
    },
    {
      "cell_type": "code",
      "source": [
        "#We merge all the data\n",
        "df = pd.concat([df_train, df_test, df_dev])"
      ],
      "metadata": {
        "id": "SRPIPKM-Xo7P"
      },
      "execution_count": null,
      "outputs": []
    },
    {
      "cell_type": "code",
      "source": [
        "df.head()"
      ],
      "metadata": {
        "colab": {
          "base_uri": "https://localhost:8080/",
          "height": 206
        },
        "id": "qR859I_z-aaj",
        "outputId": "2c0da438-7f3b-4966-b7a0-923061d237b4"
      },
      "execution_count": null,
      "outputs": [
        {
          "output_type": "execute_result",
          "data": {
            "text/plain": [
              "      Words Tags\n",
              "0  Msaʼnyə̂    O\n",
              "1     gɔtí    O\n",
              "2     cyətə    O\n",
              "3       nə́    O\n",
              "4    bǎyá    O"
            ],
            "text/html": [
              "\n",
              "  <div id=\"df-fdb218ef-7db8-4a0c-9d00-1c20c89462db\">\n",
              "    <div class=\"colab-df-container\">\n",
              "      <div>\n",
              "<style scoped>\n",
              "    .dataframe tbody tr th:only-of-type {\n",
              "        vertical-align: middle;\n",
              "    }\n",
              "\n",
              "    .dataframe tbody tr th {\n",
              "        vertical-align: top;\n",
              "    }\n",
              "\n",
              "    .dataframe thead th {\n",
              "        text-align: right;\n",
              "    }\n",
              "</style>\n",
              "<table border=\"1\" class=\"dataframe\">\n",
              "  <thead>\n",
              "    <tr style=\"text-align: right;\">\n",
              "      <th></th>\n",
              "      <th>Words</th>\n",
              "      <th>Tags</th>\n",
              "    </tr>\n",
              "  </thead>\n",
              "  <tbody>\n",
              "    <tr>\n",
              "      <th>0</th>\n",
              "      <td>Msaʼnyə̂</td>\n",
              "      <td>O</td>\n",
              "    </tr>\n",
              "    <tr>\n",
              "      <th>1</th>\n",
              "      <td>gɔtí</td>\n",
              "      <td>O</td>\n",
              "    </tr>\n",
              "    <tr>\n",
              "      <th>2</th>\n",
              "      <td>cyətə</td>\n",
              "      <td>O</td>\n",
              "    </tr>\n",
              "    <tr>\n",
              "      <th>3</th>\n",
              "      <td>nə́</td>\n",
              "      <td>O</td>\n",
              "    </tr>\n",
              "    <tr>\n",
              "      <th>4</th>\n",
              "      <td>bǎyá</td>\n",
              "      <td>O</td>\n",
              "    </tr>\n",
              "  </tbody>\n",
              "</table>\n",
              "</div>\n",
              "      <button class=\"colab-df-convert\" onclick=\"convertToInteractive('df-fdb218ef-7db8-4a0c-9d00-1c20c89462db')\"\n",
              "              title=\"Convert this dataframe to an interactive table.\"\n",
              "              style=\"display:none;\">\n",
              "        \n",
              "  <svg xmlns=\"http://www.w3.org/2000/svg\" height=\"24px\"viewBox=\"0 0 24 24\"\n",
              "       width=\"24px\">\n",
              "    <path d=\"M0 0h24v24H0V0z\" fill=\"none\"/>\n",
              "    <path d=\"M18.56 5.44l.94 2.06.94-2.06 2.06-.94-2.06-.94-.94-2.06-.94 2.06-2.06.94zm-11 1L8.5 8.5l.94-2.06 2.06-.94-2.06-.94L8.5 2.5l-.94 2.06-2.06.94zm10 10l.94 2.06.94-2.06 2.06-.94-2.06-.94-.94-2.06-.94 2.06-2.06.94z\"/><path d=\"M17.41 7.96l-1.37-1.37c-.4-.4-.92-.59-1.43-.59-.52 0-1.04.2-1.43.59L10.3 9.45l-7.72 7.72c-.78.78-.78 2.05 0 2.83L4 21.41c.39.39.9.59 1.41.59.51 0 1.02-.2 1.41-.59l7.78-7.78 2.81-2.81c.8-.78.8-2.07 0-2.86zM5.41 20L4 18.59l7.72-7.72 1.47 1.35L5.41 20z\"/>\n",
              "  </svg>\n",
              "      </button>\n",
              "      \n",
              "  <style>\n",
              "    .colab-df-container {\n",
              "      display:flex;\n",
              "      flex-wrap:wrap;\n",
              "      gap: 12px;\n",
              "    }\n",
              "\n",
              "    .colab-df-convert {\n",
              "      background-color: #E8F0FE;\n",
              "      border: none;\n",
              "      border-radius: 50%;\n",
              "      cursor: pointer;\n",
              "      display: none;\n",
              "      fill: #1967D2;\n",
              "      height: 32px;\n",
              "      padding: 0 0 0 0;\n",
              "      width: 32px;\n",
              "    }\n",
              "\n",
              "    .colab-df-convert:hover {\n",
              "      background-color: #E2EBFA;\n",
              "      box-shadow: 0px 1px 2px rgba(60, 64, 67, 0.3), 0px 1px 3px 1px rgba(60, 64, 67, 0.15);\n",
              "      fill: #174EA6;\n",
              "    }\n",
              "\n",
              "    [theme=dark] .colab-df-convert {\n",
              "      background-color: #3B4455;\n",
              "      fill: #D2E3FC;\n",
              "    }\n",
              "\n",
              "    [theme=dark] .colab-df-convert:hover {\n",
              "      background-color: #434B5C;\n",
              "      box-shadow: 0px 1px 3px 1px rgba(0, 0, 0, 0.15);\n",
              "      filter: drop-shadow(0px 1px 2px rgba(0, 0, 0, 0.3));\n",
              "      fill: #FFFFFF;\n",
              "    }\n",
              "  </style>\n",
              "\n",
              "      <script>\n",
              "        const buttonEl =\n",
              "          document.querySelector('#df-fdb218ef-7db8-4a0c-9d00-1c20c89462db button.colab-df-convert');\n",
              "        buttonEl.style.display =\n",
              "          google.colab.kernel.accessAllowed ? 'block' : 'none';\n",
              "\n",
              "        async function convertToInteractive(key) {\n",
              "          const element = document.querySelector('#df-fdb218ef-7db8-4a0c-9d00-1c20c89462db');\n",
              "          const dataTable =\n",
              "            await google.colab.kernel.invokeFunction('convertToInteractive',\n",
              "                                                     [key], {});\n",
              "          if (!dataTable) return;\n",
              "\n",
              "          const docLinkHtml = 'Like what you see? Visit the ' +\n",
              "            '<a target=\"_blank\" href=https://colab.research.google.com/notebooks/data_table.ipynb>data table notebook</a>'\n",
              "            + ' to learn more about interactive tables.';\n",
              "          element.innerHTML = '';\n",
              "          dataTable['output_type'] = 'display_data';\n",
              "          await google.colab.output.renderOutput(dataTable, element);\n",
              "          const docLink = document.createElement('div');\n",
              "          docLink.innerHTML = docLinkHtml;\n",
              "          element.appendChild(docLink);\n",
              "        }\n",
              "      </script>\n",
              "    </div>\n",
              "  </div>\n",
              "  "
            ]
          },
          "metadata": {},
          "execution_count": 10
        }
      ]
    },
    {
      "cell_type": "code",
      "source": [
        "len(df)"
      ],
      "metadata": {
        "colab": {
          "base_uri": "https://localhost:8080/"
        },
        "id": "TUpV6AaUYWBK",
        "outputId": "c8695b8e-665d-46f3-a24b-064c6b562f29"
      },
      "execution_count": null,
      "outputs": [
        {
          "output_type": "execute_result",
          "data": {
            "text/plain": [
              "69459"
            ]
          },
          "metadata": {},
          "execution_count": 11
        }
      ]
    },
    {
      "cell_type": "code",
      "source": [
        "df.isnull().sum()"
      ],
      "metadata": {
        "colab": {
          "base_uri": "https://localhost:8080/"
        },
        "id": "kNGZkFGZPgSK",
        "outputId": "6a12315b-4d56-4a07-a6fd-d8d2d479e22e"
      },
      "execution_count": null,
      "outputs": [
        {
          "output_type": "execute_result",
          "data": {
            "text/plain": [
              "Words    0\n",
              "Tags     0\n",
              "dtype: int64"
            ]
          },
          "metadata": {},
          "execution_count": 12
        }
      ]
    },
    {
      "cell_type": "code",
      "source": [
        "#We count the occurence of each tags\n",
        "df.groupby('Tags').size().reset_index(name='counts')"
      ],
      "metadata": {
        "colab": {
          "base_uri": "https://localhost:8080/",
          "height": 331
        },
        "id": "s5qSNaCNYl_J",
        "outputId": "daffc845-c4ac-4bda-b7e8-cc1af9a5c650"
      },
      "execution_count": null,
      "outputs": [
        {
          "output_type": "execute_result",
          "data": {
            "text/plain": [
              "     Tags  counts\n",
              "0  B-DATE     851\n",
              "1   B-LOC    1123\n",
              "2   B-ORG     870\n",
              "3   B-PER    1254\n",
              "4  I-DATE    1605\n",
              "5   I-LOC     248\n",
              "6   I-ORG     715\n",
              "7   I-PER    1210\n",
              "8       O   61583"
            ],
            "text/html": [
              "\n",
              "  <div id=\"df-c810f135-e6fb-4cb1-a74a-4420e4727156\">\n",
              "    <div class=\"colab-df-container\">\n",
              "      <div>\n",
              "<style scoped>\n",
              "    .dataframe tbody tr th:only-of-type {\n",
              "        vertical-align: middle;\n",
              "    }\n",
              "\n",
              "    .dataframe tbody tr th {\n",
              "        vertical-align: top;\n",
              "    }\n",
              "\n",
              "    .dataframe thead th {\n",
              "        text-align: right;\n",
              "    }\n",
              "</style>\n",
              "<table border=\"1\" class=\"dataframe\">\n",
              "  <thead>\n",
              "    <tr style=\"text-align: right;\">\n",
              "      <th></th>\n",
              "      <th>Tags</th>\n",
              "      <th>counts</th>\n",
              "    </tr>\n",
              "  </thead>\n",
              "  <tbody>\n",
              "    <tr>\n",
              "      <th>0</th>\n",
              "      <td>B-DATE</td>\n",
              "      <td>851</td>\n",
              "    </tr>\n",
              "    <tr>\n",
              "      <th>1</th>\n",
              "      <td>B-LOC</td>\n",
              "      <td>1123</td>\n",
              "    </tr>\n",
              "    <tr>\n",
              "      <th>2</th>\n",
              "      <td>B-ORG</td>\n",
              "      <td>870</td>\n",
              "    </tr>\n",
              "    <tr>\n",
              "      <th>3</th>\n",
              "      <td>B-PER</td>\n",
              "      <td>1254</td>\n",
              "    </tr>\n",
              "    <tr>\n",
              "      <th>4</th>\n",
              "      <td>I-DATE</td>\n",
              "      <td>1605</td>\n",
              "    </tr>\n",
              "    <tr>\n",
              "      <th>5</th>\n",
              "      <td>I-LOC</td>\n",
              "      <td>248</td>\n",
              "    </tr>\n",
              "    <tr>\n",
              "      <th>6</th>\n",
              "      <td>I-ORG</td>\n",
              "      <td>715</td>\n",
              "    </tr>\n",
              "    <tr>\n",
              "      <th>7</th>\n",
              "      <td>I-PER</td>\n",
              "      <td>1210</td>\n",
              "    </tr>\n",
              "    <tr>\n",
              "      <th>8</th>\n",
              "      <td>O</td>\n",
              "      <td>61583</td>\n",
              "    </tr>\n",
              "  </tbody>\n",
              "</table>\n",
              "</div>\n",
              "      <button class=\"colab-df-convert\" onclick=\"convertToInteractive('df-c810f135-e6fb-4cb1-a74a-4420e4727156')\"\n",
              "              title=\"Convert this dataframe to an interactive table.\"\n",
              "              style=\"display:none;\">\n",
              "        \n",
              "  <svg xmlns=\"http://www.w3.org/2000/svg\" height=\"24px\"viewBox=\"0 0 24 24\"\n",
              "       width=\"24px\">\n",
              "    <path d=\"M0 0h24v24H0V0z\" fill=\"none\"/>\n",
              "    <path d=\"M18.56 5.44l.94 2.06.94-2.06 2.06-.94-2.06-.94-.94-2.06-.94 2.06-2.06.94zm-11 1L8.5 8.5l.94-2.06 2.06-.94-2.06-.94L8.5 2.5l-.94 2.06-2.06.94zm10 10l.94 2.06.94-2.06 2.06-.94-2.06-.94-.94-2.06-.94 2.06-2.06.94z\"/><path d=\"M17.41 7.96l-1.37-1.37c-.4-.4-.92-.59-1.43-.59-.52 0-1.04.2-1.43.59L10.3 9.45l-7.72 7.72c-.78.78-.78 2.05 0 2.83L4 21.41c.39.39.9.59 1.41.59.51 0 1.02-.2 1.41-.59l7.78-7.78 2.81-2.81c.8-.78.8-2.07 0-2.86zM5.41 20L4 18.59l7.72-7.72 1.47 1.35L5.41 20z\"/>\n",
              "  </svg>\n",
              "      </button>\n",
              "      \n",
              "  <style>\n",
              "    .colab-df-container {\n",
              "      display:flex;\n",
              "      flex-wrap:wrap;\n",
              "      gap: 12px;\n",
              "    }\n",
              "\n",
              "    .colab-df-convert {\n",
              "      background-color: #E8F0FE;\n",
              "      border: none;\n",
              "      border-radius: 50%;\n",
              "      cursor: pointer;\n",
              "      display: none;\n",
              "      fill: #1967D2;\n",
              "      height: 32px;\n",
              "      padding: 0 0 0 0;\n",
              "      width: 32px;\n",
              "    }\n",
              "\n",
              "    .colab-df-convert:hover {\n",
              "      background-color: #E2EBFA;\n",
              "      box-shadow: 0px 1px 2px rgba(60, 64, 67, 0.3), 0px 1px 3px 1px rgba(60, 64, 67, 0.15);\n",
              "      fill: #174EA6;\n",
              "    }\n",
              "\n",
              "    [theme=dark] .colab-df-convert {\n",
              "      background-color: #3B4455;\n",
              "      fill: #D2E3FC;\n",
              "    }\n",
              "\n",
              "    [theme=dark] .colab-df-convert:hover {\n",
              "      background-color: #434B5C;\n",
              "      box-shadow: 0px 1px 3px 1px rgba(0, 0, 0, 0.15);\n",
              "      filter: drop-shadow(0px 1px 2px rgba(0, 0, 0, 0.3));\n",
              "      fill: #FFFFFF;\n",
              "    }\n",
              "  </style>\n",
              "\n",
              "      <script>\n",
              "        const buttonEl =\n",
              "          document.querySelector('#df-c810f135-e6fb-4cb1-a74a-4420e4727156 button.colab-df-convert');\n",
              "        buttonEl.style.display =\n",
              "          google.colab.kernel.accessAllowed ? 'block' : 'none';\n",
              "\n",
              "        async function convertToInteractive(key) {\n",
              "          const element = document.querySelector('#df-c810f135-e6fb-4cb1-a74a-4420e4727156');\n",
              "          const dataTable =\n",
              "            await google.colab.kernel.invokeFunction('convertToInteractive',\n",
              "                                                     [key], {});\n",
              "          if (!dataTable) return;\n",
              "\n",
              "          const docLinkHtml = 'Like what you see? Visit the ' +\n",
              "            '<a target=\"_blank\" href=https://colab.research.google.com/notebooks/data_table.ipynb>data table notebook</a>'\n",
              "            + ' to learn more about interactive tables.';\n",
              "          element.innerHTML = '';\n",
              "          dataTable['output_type'] = 'display_data';\n",
              "          await google.colab.output.renderOutput(dataTable, element);\n",
              "          const docLink = document.createElement('div');\n",
              "          docLink.innerHTML = docLinkHtml;\n",
              "          element.appendChild(docLink);\n",
              "        }\n",
              "      </script>\n",
              "    </div>\n",
              "  </div>\n",
              "  "
            ]
          },
          "metadata": {},
          "execution_count": 13
        }
      ]
    },
    {
      "cell_type": "markdown",
      "source": [
        "###Essential info about entities tags:\n",
        "\n",
        "date = Date \\\\\n",
        "org = Organization \\\\\n",
        "per = Person \\\\\n",
        "loc = Locations \\\\\n",
        "\n",
        "The IOB:Inside–outside–beginning (tagging)  is a common tagging format for tagging tokens. \\\\\n",
        "I- prefix before a tag indicates that the tag is inside a chunk. \\\\\n",
        "B- prefix before a tag indicates that the tag is the beginning of a chunk. \\\\\n",
        "An O tag indicates that a token belongs to no chunk (outside).\n",
        "\n",
        "\n"
      ],
      "metadata": {
        "id": "knaDLbTb-rnd"
      }
    },
    {
      "cell_type": "code",
      "source": [
        "#transform the text data to vector using DictVectorizer() and split to train and test sets\n",
        "X = df.drop('Tags', axis=1)\n",
        "v = DictVectorizer(sparse=False)\n",
        "X = v.fit_transform(X.to_dict('records'))\n"
      ],
      "metadata": {
        "id": "Rz-OzWQjYwAV"
      },
      "execution_count": null,
      "outputs": []
    },
    {
      "cell_type": "code",
      "source": [
        "y = df.Tags.values\n",
        "\n",
        "classes = np.unique(y)\n",
        "classes = classes.tolist()\n",
        "X_train, X_test, y_train, y_test = train_test_split(X, y, test_size = 0.33, random_state=0)\n",
        "X_train.shape, y_train.shape"
      ],
      "metadata": {
        "colab": {
          "base_uri": "https://localhost:8080/"
        },
        "id": "wb5CnoS1ZLNi",
        "outputId": "77599a7d-ad6a-44f0-8572-93197d15b987"
      },
      "execution_count": null,
      "outputs": [
        {
          "output_type": "execute_result",
          "data": {
            "text/plain": [
              "((46537, 11154), (46537,))"
            ]
          },
          "metadata": {},
          "execution_count": 15
        }
      ]
    },
    {
      "cell_type": "markdown",
      "source": [
        "##Perceptron\n",
        "the most basic single-layered neural network used for binary classification. A Perceptron Algorithm is not something widely used in practice. We study it mostly for historical reasons and also because it is the most basic and simple single-layered neural networ"
      ],
      "metadata": {
        "id": "EdanNjrjZeOx"
      }
    },
    {
      "cell_type": "code",
      "source": [
        "per = Perceptron(alpha=0.0001, max_iter=100, shuffle=True)\n",
        "per.partial_fit(X_train, y_train, classes)"
      ],
      "metadata": {
        "colab": {
          "base_uri": "https://localhost:8080/",
          "height": 74
        },
        "id": "ehodmmGTZV4-",
        "outputId": "11a03d0e-dbaf-4cb8-c410-0a47d9757fd0"
      },
      "execution_count": null,
      "outputs": [
        {
          "output_type": "execute_result",
          "data": {
            "text/plain": [
              "Perceptron(max_iter=100)"
            ],
            "text/html": [
              "<style>#sk-container-id-1 {color: black;background-color: white;}#sk-container-id-1 pre{padding: 0;}#sk-container-id-1 div.sk-toggleable {background-color: white;}#sk-container-id-1 label.sk-toggleable__label {cursor: pointer;display: block;width: 100%;margin-bottom: 0;padding: 0.3em;box-sizing: border-box;text-align: center;}#sk-container-id-1 label.sk-toggleable__label-arrow:before {content: \"▸\";float: left;margin-right: 0.25em;color: #696969;}#sk-container-id-1 label.sk-toggleable__label-arrow:hover:before {color: black;}#sk-container-id-1 div.sk-estimator:hover label.sk-toggleable__label-arrow:before {color: black;}#sk-container-id-1 div.sk-toggleable__content {max-height: 0;max-width: 0;overflow: hidden;text-align: left;background-color: #f0f8ff;}#sk-container-id-1 div.sk-toggleable__content pre {margin: 0.2em;color: black;border-radius: 0.25em;background-color: #f0f8ff;}#sk-container-id-1 input.sk-toggleable__control:checked~div.sk-toggleable__content {max-height: 200px;max-width: 100%;overflow: auto;}#sk-container-id-1 input.sk-toggleable__control:checked~label.sk-toggleable__label-arrow:before {content: \"▾\";}#sk-container-id-1 div.sk-estimator input.sk-toggleable__control:checked~label.sk-toggleable__label {background-color: #d4ebff;}#sk-container-id-1 div.sk-label input.sk-toggleable__control:checked~label.sk-toggleable__label {background-color: #d4ebff;}#sk-container-id-1 input.sk-hidden--visually {border: 0;clip: rect(1px 1px 1px 1px);clip: rect(1px, 1px, 1px, 1px);height: 1px;margin: -1px;overflow: hidden;padding: 0;position: absolute;width: 1px;}#sk-container-id-1 div.sk-estimator {font-family: monospace;background-color: #f0f8ff;border: 1px dotted black;border-radius: 0.25em;box-sizing: border-box;margin-bottom: 0.5em;}#sk-container-id-1 div.sk-estimator:hover {background-color: #d4ebff;}#sk-container-id-1 div.sk-parallel-item::after {content: \"\";width: 100%;border-bottom: 1px solid gray;flex-grow: 1;}#sk-container-id-1 div.sk-label:hover label.sk-toggleable__label {background-color: #d4ebff;}#sk-container-id-1 div.sk-serial::before {content: \"\";position: absolute;border-left: 1px solid gray;box-sizing: border-box;top: 0;bottom: 0;left: 50%;z-index: 0;}#sk-container-id-1 div.sk-serial {display: flex;flex-direction: column;align-items: center;background-color: white;padding-right: 0.2em;padding-left: 0.2em;position: relative;}#sk-container-id-1 div.sk-item {position: relative;z-index: 1;}#sk-container-id-1 div.sk-parallel {display: flex;align-items: stretch;justify-content: center;background-color: white;position: relative;}#sk-container-id-1 div.sk-item::before, #sk-container-id-1 div.sk-parallel-item::before {content: \"\";position: absolute;border-left: 1px solid gray;box-sizing: border-box;top: 0;bottom: 0;left: 50%;z-index: -1;}#sk-container-id-1 div.sk-parallel-item {display: flex;flex-direction: column;z-index: 1;position: relative;background-color: white;}#sk-container-id-1 div.sk-parallel-item:first-child::after {align-self: flex-end;width: 50%;}#sk-container-id-1 div.sk-parallel-item:last-child::after {align-self: flex-start;width: 50%;}#sk-container-id-1 div.sk-parallel-item:only-child::after {width: 0;}#sk-container-id-1 div.sk-dashed-wrapped {border: 1px dashed gray;margin: 0 0.4em 0.5em 0.4em;box-sizing: border-box;padding-bottom: 0.4em;background-color: white;}#sk-container-id-1 div.sk-label label {font-family: monospace;font-weight: bold;display: inline-block;line-height: 1.2em;}#sk-container-id-1 div.sk-label-container {text-align: center;}#sk-container-id-1 div.sk-container {/* jupyter's `normalize.less` sets `[hidden] { display: none; }` but bootstrap.min.css set `[hidden] { display: none !important; }` so we also need the `!important` here to be able to override the default hidden behavior on the sphinx rendered scikit-learn.org. See: https://github.com/scikit-learn/scikit-learn/issues/21755 */display: inline-block !important;position: relative;}#sk-container-id-1 div.sk-text-repr-fallback {display: none;}</style><div id=\"sk-container-id-1\" class=\"sk-top-container\"><div class=\"sk-text-repr-fallback\"><pre>Perceptron(max_iter=100)</pre><b>In a Jupyter environment, please rerun this cell to show the HTML representation or trust the notebook. <br />On GitHub, the HTML representation is unable to render, please try loading this page with nbviewer.org.</b></div><div class=\"sk-container\" hidden><div class=\"sk-item\"><div class=\"sk-estimator sk-toggleable\"><input class=\"sk-toggleable__control sk-hidden--visually\" id=\"sk-estimator-id-1\" type=\"checkbox\" checked><label for=\"sk-estimator-id-1\" class=\"sk-toggleable__label sk-toggleable__label-arrow\">Perceptron</label><div class=\"sk-toggleable__content\"><pre>Perceptron(max_iter=100)</pre></div></div></div></div></div>"
            ]
          },
          "metadata": {},
          "execution_count": 16
        }
      ]
    },
    {
      "cell_type": "markdown",
      "source": [
        "We can onbserve that tag “O” (outside) is the most common tag and it will make our results look much better than they actual are. So we remove tag “O” when we evaluate classification metrics."
      ],
      "metadata": {
        "id": "kp03OnQTmL7B"
      }
    },
    {
      "cell_type": "code",
      "source": [
        "new_classes = classes.copy()\n",
        "new_classes.pop()\n",
        "new_classes"
      ],
      "metadata": {
        "colab": {
          "base_uri": "https://localhost:8080/"
        },
        "id": "FWFEkMteZkBT",
        "outputId": "7109ab20-dcac-49a0-ea13-812962629eb0"
      },
      "execution_count": null,
      "outputs": [
        {
          "output_type": "execute_result",
          "data": {
            "text/plain": [
              "['B-DATE', 'B-LOC', 'B-ORG', 'B-PER', 'I-DATE', 'I-LOC', 'I-ORG', 'I-PER']"
            ]
          },
          "metadata": {},
          "execution_count": 17
        }
      ]
    },
    {
      "cell_type": "code",
      "source": [
        "print(classification_report(y_pred=per.predict(X_test), y_true=y_test, labels=new_classes))"
      ],
      "metadata": {
        "colab": {
          "base_uri": "https://localhost:8080/"
        },
        "id": "gFEUqIZkaFVb",
        "outputId": "eb6eb7ea-f033-47d3-e50d-6c2bfdbf25d6"
      },
      "execution_count": null,
      "outputs": [
        {
          "output_type": "stream",
          "name": "stdout",
          "text": [
            "              precision    recall  f1-score   support\n",
            "\n",
            "      B-DATE       0.41      0.62      0.49       261\n",
            "       B-LOC       0.81      0.61      0.69       374\n",
            "       B-ORG       0.83      0.48      0.61       298\n",
            "       B-PER       0.86      0.46      0.60       415\n",
            "      I-DATE       0.65      0.60      0.62       517\n",
            "       I-LOC       0.57      0.05      0.09        80\n",
            "       I-ORG       0.39      0.19      0.26       231\n",
            "       I-PER       0.83      0.51      0.63       413\n",
            "\n",
            "   micro avg       0.67      0.50      0.57      2589\n",
            "   macro avg       0.67      0.44      0.50      2589\n",
            "weighted avg       0.70      0.50      0.57      2589\n",
            "\n"
          ]
        }
      ]
    },
    {
      "cell_type": "markdown",
      "source": [
        "##SGD\n",
        "Stochastic Gradient Descent (SGD) classifier basically implements a plain SGD learning routine supporting various loss functions and penalties for classification."
      ],
      "metadata": {
        "id": "UCz2w627bO3m"
      }
    },
    {
      "cell_type": "code",
      "source": [
        "sgd = SGDClassifier(alpha=0.01, eta0=0.0, fit_intercept=True, l1_ratio=0.15, learning_rate='optimal', loss='perceptron', max_iter=500, power_t=0.5, shuffle=True)\n",
        "sgd.partial_fit(X_train, y_train, classes)"
      ],
      "metadata": {
        "colab": {
          "base_uri": "https://localhost:8080/",
          "height": 51
        },
        "id": "DPkt1NlpaLqV",
        "outputId": "9edb5c35-d1b4-4456-b6e6-235fe9ae7092"
      },
      "execution_count": null,
      "outputs": [
        {
          "output_type": "execute_result",
          "data": {
            "text/plain": [
              "SGDClassifier(alpha=0.01, loss='perceptron', max_iter=500)"
            ],
            "text/html": [
              "<style>#sk-container-id-3 {color: black;background-color: white;}#sk-container-id-3 pre{padding: 0;}#sk-container-id-3 div.sk-toggleable {background-color: white;}#sk-container-id-3 label.sk-toggleable__label {cursor: pointer;display: block;width: 100%;margin-bottom: 0;padding: 0.3em;box-sizing: border-box;text-align: center;}#sk-container-id-3 label.sk-toggleable__label-arrow:before {content: \"▸\";float: left;margin-right: 0.25em;color: #696969;}#sk-container-id-3 label.sk-toggleable__label-arrow:hover:before {color: black;}#sk-container-id-3 div.sk-estimator:hover label.sk-toggleable__label-arrow:before {color: black;}#sk-container-id-3 div.sk-toggleable__content {max-height: 0;max-width: 0;overflow: hidden;text-align: left;background-color: #f0f8ff;}#sk-container-id-3 div.sk-toggleable__content pre {margin: 0.2em;color: black;border-radius: 0.25em;background-color: #f0f8ff;}#sk-container-id-3 input.sk-toggleable__control:checked~div.sk-toggleable__content {max-height: 200px;max-width: 100%;overflow: auto;}#sk-container-id-3 input.sk-toggleable__control:checked~label.sk-toggleable__label-arrow:before {content: \"▾\";}#sk-container-id-3 div.sk-estimator input.sk-toggleable__control:checked~label.sk-toggleable__label {background-color: #d4ebff;}#sk-container-id-3 div.sk-label input.sk-toggleable__control:checked~label.sk-toggleable__label {background-color: #d4ebff;}#sk-container-id-3 input.sk-hidden--visually {border: 0;clip: rect(1px 1px 1px 1px);clip: rect(1px, 1px, 1px, 1px);height: 1px;margin: -1px;overflow: hidden;padding: 0;position: absolute;width: 1px;}#sk-container-id-3 div.sk-estimator {font-family: monospace;background-color: #f0f8ff;border: 1px dotted black;border-radius: 0.25em;box-sizing: border-box;margin-bottom: 0.5em;}#sk-container-id-3 div.sk-estimator:hover {background-color: #d4ebff;}#sk-container-id-3 div.sk-parallel-item::after {content: \"\";width: 100%;border-bottom: 1px solid gray;flex-grow: 1;}#sk-container-id-3 div.sk-label:hover label.sk-toggleable__label {background-color: #d4ebff;}#sk-container-id-3 div.sk-serial::before {content: \"\";position: absolute;border-left: 1px solid gray;box-sizing: border-box;top: 0;bottom: 0;left: 50%;z-index: 0;}#sk-container-id-3 div.sk-serial {display: flex;flex-direction: column;align-items: center;background-color: white;padding-right: 0.2em;padding-left: 0.2em;position: relative;}#sk-container-id-3 div.sk-item {position: relative;z-index: 1;}#sk-container-id-3 div.sk-parallel {display: flex;align-items: stretch;justify-content: center;background-color: white;position: relative;}#sk-container-id-3 div.sk-item::before, #sk-container-id-3 div.sk-parallel-item::before {content: \"\";position: absolute;border-left: 1px solid gray;box-sizing: border-box;top: 0;bottom: 0;left: 50%;z-index: -1;}#sk-container-id-3 div.sk-parallel-item {display: flex;flex-direction: column;z-index: 1;position: relative;background-color: white;}#sk-container-id-3 div.sk-parallel-item:first-child::after {align-self: flex-end;width: 50%;}#sk-container-id-3 div.sk-parallel-item:last-child::after {align-self: flex-start;width: 50%;}#sk-container-id-3 div.sk-parallel-item:only-child::after {width: 0;}#sk-container-id-3 div.sk-dashed-wrapped {border: 1px dashed gray;margin: 0 0.4em 0.5em 0.4em;box-sizing: border-box;padding-bottom: 0.4em;background-color: white;}#sk-container-id-3 div.sk-label label {font-family: monospace;font-weight: bold;display: inline-block;line-height: 1.2em;}#sk-container-id-3 div.sk-label-container {text-align: center;}#sk-container-id-3 div.sk-container {/* jupyter's `normalize.less` sets `[hidden] { display: none; }` but bootstrap.min.css set `[hidden] { display: none !important; }` so we also need the `!important` here to be able to override the default hidden behavior on the sphinx rendered scikit-learn.org. See: https://github.com/scikit-learn/scikit-learn/issues/21755 */display: inline-block !important;position: relative;}#sk-container-id-3 div.sk-text-repr-fallback {display: none;}</style><div id=\"sk-container-id-3\" class=\"sk-top-container\"><div class=\"sk-text-repr-fallback\"><pre>SGDClassifier(alpha=0.01, loss=&#x27;perceptron&#x27;, max_iter=500)</pre><b>In a Jupyter environment, please rerun this cell to show the HTML representation or trust the notebook. <br />On GitHub, the HTML representation is unable to render, please try loading this page with nbviewer.org.</b></div><div class=\"sk-container\" hidden><div class=\"sk-item\"><div class=\"sk-estimator sk-toggleable\"><input class=\"sk-toggleable__control sk-hidden--visually\" id=\"sk-estimator-id-3\" type=\"checkbox\" checked><label for=\"sk-estimator-id-3\" class=\"sk-toggleable__label sk-toggleable__label-arrow\">SGDClassifier</label><div class=\"sk-toggleable__content\"><pre>SGDClassifier(alpha=0.01, loss=&#x27;perceptron&#x27;, max_iter=500)</pre></div></div></div></div></div>"
            ]
          },
          "metadata": {},
          "execution_count": 27
        }
      ]
    },
    {
      "cell_type": "code",
      "source": [
        "print(classification_report(y_pred=sgd.predict(X_test), y_true=y_test, labels=new_classes))"
      ],
      "metadata": {
        "colab": {
          "base_uri": "https://localhost:8080/"
        },
        "id": "H3Ve3XeIbUd-",
        "outputId": "0f91b133-c2bf-4f65-a552-3f3dc81fdb42"
      },
      "execution_count": null,
      "outputs": [
        {
          "output_type": "stream",
          "name": "stderr",
          "text": [
            "/usr/local/lib/python3.8/dist-packages/sklearn/metrics/_classification.py:1344: UndefinedMetricWarning: Precision and F-score are ill-defined and being set to 0.0 in labels with no predicted samples. Use `zero_division` parameter to control this behavior.\n",
            "  _warn_prf(average, modifier, msg_start, len(result))\n",
            "/usr/local/lib/python3.8/dist-packages/sklearn/metrics/_classification.py:1344: UndefinedMetricWarning: Precision and F-score are ill-defined and being set to 0.0 in labels with no predicted samples. Use `zero_division` parameter to control this behavior.\n",
            "  _warn_prf(average, modifier, msg_start, len(result))\n"
          ]
        },
        {
          "output_type": "stream",
          "name": "stdout",
          "text": [
            "              precision    recall  f1-score   support\n",
            "\n",
            "      B-DATE       0.31      0.67      0.42       261\n",
            "       B-LOC       0.74      0.09      0.15       374\n",
            "       B-ORG       0.75      0.49      0.60       298\n",
            "       B-PER       0.75      0.56      0.64       415\n",
            "      I-DATE       0.67      0.59      0.62       517\n",
            "       I-LOC       0.00      0.00      0.00        80\n",
            "       I-ORG       0.37      0.21      0.27       231\n",
            "       I-PER       0.82      0.52      0.63       413\n",
            "\n",
            "   micro avg       0.58      0.44      0.51      2589\n",
            "   macro avg       0.55      0.39      0.42      2589\n",
            "weighted avg       0.64      0.44      0.49      2589\n",
            "\n"
          ]
        },
        {
          "output_type": "stream",
          "name": "stderr",
          "text": [
            "/usr/local/lib/python3.8/dist-packages/sklearn/metrics/_classification.py:1344: UndefinedMetricWarning: Precision and F-score are ill-defined and being set to 0.0 in labels with no predicted samples. Use `zero_division` parameter to control this behavior.\n",
            "  _warn_prf(average, modifier, msg_start, len(result))\n"
          ]
        }
      ]
    },
    {
      "cell_type": "markdown",
      "source": [
        "##Naive Bayes\n",
        "Naive Bayes models can be used to tackle large scale classification problems for which the full training set might not fit in memory. To handle this case, MultinomialNB, BernoulliNB, and GaussianNB expose a partial_fit method that can be used incrementally as done with other classifiers as demonstrated in Out-of-core classification of text documents. All naive Bayes classifiers support sample weighting."
      ],
      "metadata": {
        "id": "7AWOiAY8dIy2"
      }
    },
    {
      "cell_type": "code",
      "source": [
        "nb = MultinomialNB(alpha=0.001, fit_prior=True)\n",
        "nb.partial_fit(X_train, y_train, classes)"
      ],
      "metadata": {
        "colab": {
          "base_uri": "https://localhost:8080/",
          "height": 74
        },
        "id": "_gDNuhLObf5D",
        "outputId": "be708c9e-a61e-4b33-93d3-706f8722a239"
      },
      "execution_count": null,
      "outputs": [
        {
          "output_type": "execute_result",
          "data": {
            "text/plain": [
              "MultinomialNB(alpha=0.001)"
            ],
            "text/html": [
              "<style>#sk-container-id-6 {color: black;background-color: white;}#sk-container-id-6 pre{padding: 0;}#sk-container-id-6 div.sk-toggleable {background-color: white;}#sk-container-id-6 label.sk-toggleable__label {cursor: pointer;display: block;width: 100%;margin-bottom: 0;padding: 0.3em;box-sizing: border-box;text-align: center;}#sk-container-id-6 label.sk-toggleable__label-arrow:before {content: \"▸\";float: left;margin-right: 0.25em;color: #696969;}#sk-container-id-6 label.sk-toggleable__label-arrow:hover:before {color: black;}#sk-container-id-6 div.sk-estimator:hover label.sk-toggleable__label-arrow:before {color: black;}#sk-container-id-6 div.sk-toggleable__content {max-height: 0;max-width: 0;overflow: hidden;text-align: left;background-color: #f0f8ff;}#sk-container-id-6 div.sk-toggleable__content pre {margin: 0.2em;color: black;border-radius: 0.25em;background-color: #f0f8ff;}#sk-container-id-6 input.sk-toggleable__control:checked~div.sk-toggleable__content {max-height: 200px;max-width: 100%;overflow: auto;}#sk-container-id-6 input.sk-toggleable__control:checked~label.sk-toggleable__label-arrow:before {content: \"▾\";}#sk-container-id-6 div.sk-estimator input.sk-toggleable__control:checked~label.sk-toggleable__label {background-color: #d4ebff;}#sk-container-id-6 div.sk-label input.sk-toggleable__control:checked~label.sk-toggleable__label {background-color: #d4ebff;}#sk-container-id-6 input.sk-hidden--visually {border: 0;clip: rect(1px 1px 1px 1px);clip: rect(1px, 1px, 1px, 1px);height: 1px;margin: -1px;overflow: hidden;padding: 0;position: absolute;width: 1px;}#sk-container-id-6 div.sk-estimator {font-family: monospace;background-color: #f0f8ff;border: 1px dotted black;border-radius: 0.25em;box-sizing: border-box;margin-bottom: 0.5em;}#sk-container-id-6 div.sk-estimator:hover {background-color: #d4ebff;}#sk-container-id-6 div.sk-parallel-item::after {content: \"\";width: 100%;border-bottom: 1px solid gray;flex-grow: 1;}#sk-container-id-6 div.sk-label:hover label.sk-toggleable__label {background-color: #d4ebff;}#sk-container-id-6 div.sk-serial::before {content: \"\";position: absolute;border-left: 1px solid gray;box-sizing: border-box;top: 0;bottom: 0;left: 50%;z-index: 0;}#sk-container-id-6 div.sk-serial {display: flex;flex-direction: column;align-items: center;background-color: white;padding-right: 0.2em;padding-left: 0.2em;position: relative;}#sk-container-id-6 div.sk-item {position: relative;z-index: 1;}#sk-container-id-6 div.sk-parallel {display: flex;align-items: stretch;justify-content: center;background-color: white;position: relative;}#sk-container-id-6 div.sk-item::before, #sk-container-id-6 div.sk-parallel-item::before {content: \"\";position: absolute;border-left: 1px solid gray;box-sizing: border-box;top: 0;bottom: 0;left: 50%;z-index: -1;}#sk-container-id-6 div.sk-parallel-item {display: flex;flex-direction: column;z-index: 1;position: relative;background-color: white;}#sk-container-id-6 div.sk-parallel-item:first-child::after {align-self: flex-end;width: 50%;}#sk-container-id-6 div.sk-parallel-item:last-child::after {align-self: flex-start;width: 50%;}#sk-container-id-6 div.sk-parallel-item:only-child::after {width: 0;}#sk-container-id-6 div.sk-dashed-wrapped {border: 1px dashed gray;margin: 0 0.4em 0.5em 0.4em;box-sizing: border-box;padding-bottom: 0.4em;background-color: white;}#sk-container-id-6 div.sk-label label {font-family: monospace;font-weight: bold;display: inline-block;line-height: 1.2em;}#sk-container-id-6 div.sk-label-container {text-align: center;}#sk-container-id-6 div.sk-container {/* jupyter's `normalize.less` sets `[hidden] { display: none; }` but bootstrap.min.css set `[hidden] { display: none !important; }` so we also need the `!important` here to be able to override the default hidden behavior on the sphinx rendered scikit-learn.org. See: https://github.com/scikit-learn/scikit-learn/issues/21755 */display: inline-block !important;position: relative;}#sk-container-id-6 div.sk-text-repr-fallback {display: none;}</style><div id=\"sk-container-id-6\" class=\"sk-top-container\"><div class=\"sk-text-repr-fallback\"><pre>MultinomialNB(alpha=0.001)</pre><b>In a Jupyter environment, please rerun this cell to show the HTML representation or trust the notebook. <br />On GitHub, the HTML representation is unable to render, please try loading this page with nbviewer.org.</b></div><div class=\"sk-container\" hidden><div class=\"sk-item\"><div class=\"sk-estimator sk-toggleable\"><input class=\"sk-toggleable__control sk-hidden--visually\" id=\"sk-estimator-id-6\" type=\"checkbox\" checked><label for=\"sk-estimator-id-6\" class=\"sk-toggleable__label sk-toggleable__label-arrow\">MultinomialNB</label><div class=\"sk-toggleable__content\"><pre>MultinomialNB(alpha=0.001)</pre></div></div></div></div></div>"
            ]
          },
          "metadata": {},
          "execution_count": 33
        }
      ]
    },
    {
      "cell_type": "code",
      "source": [
        "print(classification_report(y_pred=nb.predict(X_test), y_true=y_test, labels = new_classes))"
      ],
      "metadata": {
        "colab": {
          "base_uri": "https://localhost:8080/"
        },
        "id": "LRDP0olMdThX",
        "outputId": "0a64d755-ca9e-46be-d1da-5ed0429495c4"
      },
      "execution_count": null,
      "outputs": [
        {
          "output_type": "stream",
          "name": "stdout",
          "text": [
            "              precision    recall  f1-score   support\n",
            "\n",
            "      B-DATE       0.69      0.66      0.67       261\n",
            "       B-LOC       0.81      0.60      0.69       374\n",
            "       B-ORG       0.88      0.47      0.61       298\n",
            "       B-PER       0.80      0.60      0.68       415\n",
            "      I-DATE       0.78      0.57      0.66       517\n",
            "       I-LOC       0.73      0.14      0.23        80\n",
            "       I-ORG       0.62      0.16      0.25       231\n",
            "       I-PER       0.84      0.48      0.61       413\n",
            "\n",
            "   micro avg       0.79      0.51      0.62      2589\n",
            "   macro avg       0.77      0.46      0.55      2589\n",
            "weighted avg       0.78      0.51      0.61      2589\n",
            "\n"
          ]
        }
      ]
    },
    {
      "cell_type": "markdown",
      "source": [
        "##Passive Aggressive classifier\n",
        "Passive-Aggressive algorithms are generally used for large-scale learning. It is one of the online-learning algorithms. In online machine learning algorithms, the input data comes in sequential order and the machine learning model is updated sequentially, as opposed to conventional batch learning, where the entire training dataset is used at once.\n",
        "\n",
        "This is very useful in situations where there is a huge amount of data, and it is computationally infeasible to train the entire dataset because of the sheer size of the data.\n",
        "\n"
      ],
      "metadata": {
        "id": "L3VOk-h1drD0"
      }
    },
    {
      "cell_type": "code",
      "source": [
        "pa =PassiveAggressiveClassifier(C=1.0, shuffle=True, loss='squared_hinge',n_jobs=1, max_iter=1000)\n",
        "pa.partial_fit(X_train, y_train, classes)"
      ],
      "metadata": {
        "colab": {
          "base_uri": "https://localhost:8080/",
          "height": 74
        },
        "id": "XzrJFJWWdX3Y",
        "outputId": "5bc46ccd-3b07-4b3c-cba2-cd32a96ef3a2"
      },
      "execution_count": null,
      "outputs": [
        {
          "output_type": "execute_result",
          "data": {
            "text/plain": [
              "PassiveAggressiveClassifier(loss='squared_hinge', n_jobs=1)"
            ],
            "text/html": [
              "<style>#sk-container-id-8 {color: black;background-color: white;}#sk-container-id-8 pre{padding: 0;}#sk-container-id-8 div.sk-toggleable {background-color: white;}#sk-container-id-8 label.sk-toggleable__label {cursor: pointer;display: block;width: 100%;margin-bottom: 0;padding: 0.3em;box-sizing: border-box;text-align: center;}#sk-container-id-8 label.sk-toggleable__label-arrow:before {content: \"▸\";float: left;margin-right: 0.25em;color: #696969;}#sk-container-id-8 label.sk-toggleable__label-arrow:hover:before {color: black;}#sk-container-id-8 div.sk-estimator:hover label.sk-toggleable__label-arrow:before {color: black;}#sk-container-id-8 div.sk-toggleable__content {max-height: 0;max-width: 0;overflow: hidden;text-align: left;background-color: #f0f8ff;}#sk-container-id-8 div.sk-toggleable__content pre {margin: 0.2em;color: black;border-radius: 0.25em;background-color: #f0f8ff;}#sk-container-id-8 input.sk-toggleable__control:checked~div.sk-toggleable__content {max-height: 200px;max-width: 100%;overflow: auto;}#sk-container-id-8 input.sk-toggleable__control:checked~label.sk-toggleable__label-arrow:before {content: \"▾\";}#sk-container-id-8 div.sk-estimator input.sk-toggleable__control:checked~label.sk-toggleable__label {background-color: #d4ebff;}#sk-container-id-8 div.sk-label input.sk-toggleable__control:checked~label.sk-toggleable__label {background-color: #d4ebff;}#sk-container-id-8 input.sk-hidden--visually {border: 0;clip: rect(1px 1px 1px 1px);clip: rect(1px, 1px, 1px, 1px);height: 1px;margin: -1px;overflow: hidden;padding: 0;position: absolute;width: 1px;}#sk-container-id-8 div.sk-estimator {font-family: monospace;background-color: #f0f8ff;border: 1px dotted black;border-radius: 0.25em;box-sizing: border-box;margin-bottom: 0.5em;}#sk-container-id-8 div.sk-estimator:hover {background-color: #d4ebff;}#sk-container-id-8 div.sk-parallel-item::after {content: \"\";width: 100%;border-bottom: 1px solid gray;flex-grow: 1;}#sk-container-id-8 div.sk-label:hover label.sk-toggleable__label {background-color: #d4ebff;}#sk-container-id-8 div.sk-serial::before {content: \"\";position: absolute;border-left: 1px solid gray;box-sizing: border-box;top: 0;bottom: 0;left: 50%;z-index: 0;}#sk-container-id-8 div.sk-serial {display: flex;flex-direction: column;align-items: center;background-color: white;padding-right: 0.2em;padding-left: 0.2em;position: relative;}#sk-container-id-8 div.sk-item {position: relative;z-index: 1;}#sk-container-id-8 div.sk-parallel {display: flex;align-items: stretch;justify-content: center;background-color: white;position: relative;}#sk-container-id-8 div.sk-item::before, #sk-container-id-8 div.sk-parallel-item::before {content: \"\";position: absolute;border-left: 1px solid gray;box-sizing: border-box;top: 0;bottom: 0;left: 50%;z-index: -1;}#sk-container-id-8 div.sk-parallel-item {display: flex;flex-direction: column;z-index: 1;position: relative;background-color: white;}#sk-container-id-8 div.sk-parallel-item:first-child::after {align-self: flex-end;width: 50%;}#sk-container-id-8 div.sk-parallel-item:last-child::after {align-self: flex-start;width: 50%;}#sk-container-id-8 div.sk-parallel-item:only-child::after {width: 0;}#sk-container-id-8 div.sk-dashed-wrapped {border: 1px dashed gray;margin: 0 0.4em 0.5em 0.4em;box-sizing: border-box;padding-bottom: 0.4em;background-color: white;}#sk-container-id-8 div.sk-label label {font-family: monospace;font-weight: bold;display: inline-block;line-height: 1.2em;}#sk-container-id-8 div.sk-label-container {text-align: center;}#sk-container-id-8 div.sk-container {/* jupyter's `normalize.less` sets `[hidden] { display: none; }` but bootstrap.min.css set `[hidden] { display: none !important; }` so we also need the `!important` here to be able to override the default hidden behavior on the sphinx rendered scikit-learn.org. See: https://github.com/scikit-learn/scikit-learn/issues/21755 */display: inline-block !important;position: relative;}#sk-container-id-8 div.sk-text-repr-fallback {display: none;}</style><div id=\"sk-container-id-8\" class=\"sk-top-container\"><div class=\"sk-text-repr-fallback\"><pre>PassiveAggressiveClassifier(loss=&#x27;squared_hinge&#x27;, n_jobs=1)</pre><b>In a Jupyter environment, please rerun this cell to show the HTML representation or trust the notebook. <br />On GitHub, the HTML representation is unable to render, please try loading this page with nbviewer.org.</b></div><div class=\"sk-container\" hidden><div class=\"sk-item\"><div class=\"sk-estimator sk-toggleable\"><input class=\"sk-toggleable__control sk-hidden--visually\" id=\"sk-estimator-id-8\" type=\"checkbox\" checked><label for=\"sk-estimator-id-8\" class=\"sk-toggleable__label sk-toggleable__label-arrow\">PassiveAggressiveClassifier</label><div class=\"sk-toggleable__content\"><pre>PassiveAggressiveClassifier(loss=&#x27;squared_hinge&#x27;, n_jobs=1)</pre></div></div></div></div></div>"
            ]
          },
          "metadata": {},
          "execution_count": 38
        }
      ]
    },
    {
      "cell_type": "code",
      "source": [
        "print(classification_report(y_pred=pa.predict(X_test), y_true=y_test, labels=new_classes))"
      ],
      "metadata": {
        "colab": {
          "base_uri": "https://localhost:8080/"
        },
        "id": "rS61tBTbeAr0",
        "outputId": "33c2077d-058a-42ef-d426-3fede7b018f9"
      },
      "execution_count": null,
      "outputs": [
        {
          "output_type": "stream",
          "name": "stdout",
          "text": [
            "              precision    recall  f1-score   support\n",
            "\n",
            "      B-DATE       0.67      0.21      0.33       261\n",
            "       B-LOC       0.82      0.60      0.69       374\n",
            "       B-ORG       0.87      0.46      0.60       298\n",
            "       B-PER       0.82      0.57      0.68       415\n",
            "      I-DATE       0.65      0.65      0.65       517\n",
            "       I-LOC       0.62      0.06      0.11        80\n",
            "       I-ORG       0.67      0.03      0.07       231\n",
            "       I-PER       0.82      0.48      0.61       413\n",
            "\n",
            "   micro avg       0.76      0.46      0.58      2589\n",
            "   macro avg       0.74      0.38      0.47      2589\n",
            "weighted avg       0.76      0.46      0.55      2589\n",
            "\n"
          ]
        }
      ]
    },
    {
      "cell_type": "markdown",
      "source": [
        "##Conditional Random Field(CRFs)\n",
        "CRFs is often used for labeling or parsing of sequential data, such as natural language processing and CRFs find applications in POS Tagging, named entity recognition, among others."
      ],
      "metadata": {
        "id": "4-wbefuoeNcU"
      }
    },
    {
      "cell_type": "code",
      "source": [
        "!pip install sklearn-crfsuite"
      ],
      "metadata": {
        "colab": {
          "base_uri": "https://localhost:8080/"
        },
        "id": "Khof4tIUev7R",
        "outputId": "9b245a69-2576-4410-cbdd-36ce8a4ecc77"
      },
      "execution_count": null,
      "outputs": [
        {
          "output_type": "stream",
          "name": "stdout",
          "text": [
            "Looking in indexes: https://pypi.org/simple, https://us-python.pkg.dev/colab-wheels/public/simple/\n",
            "Collecting sklearn-crfsuite\n",
            "  Downloading sklearn_crfsuite-0.3.6-py2.py3-none-any.whl (12 kB)\n",
            "Collecting python-crfsuite>=0.8.3\n",
            "  Downloading python_crfsuite-0.9.9-cp38-cp38-manylinux_2_17_x86_64.manylinux2014_x86_64.whl (1.0 MB)\n",
            "\u001b[2K     \u001b[90m━━━━━━━━━━━━━━━━━━━━━━━━━━━━━━━━━━━━━━━━\u001b[0m \u001b[32m1.0/1.0 MB\u001b[0m \u001b[31m47.0 MB/s\u001b[0m eta \u001b[36m0:00:00\u001b[0m\n",
            "\u001b[?25hRequirement already satisfied: tabulate in /usr/local/lib/python3.8/dist-packages (from sklearn-crfsuite) (0.8.10)\n",
            "Requirement already satisfied: tqdm>=2.0 in /usr/local/lib/python3.8/dist-packages (from sklearn-crfsuite) (4.64.1)\n",
            "Requirement already satisfied: six in /usr/local/lib/python3.8/dist-packages (from sklearn-crfsuite) (1.15.0)\n",
            "Installing collected packages: python-crfsuite, sklearn-crfsuite\n",
            "Successfully installed python-crfsuite-0.9.9 sklearn-crfsuite-0.3.6\n"
          ]
        }
      ]
    },
    {
      "cell_type": "code",
      "source": [
        "#we import our librairies\n",
        "import sklearn_crfsuite\n",
        "from sklearn_crfsuite import scorers\n",
        "from sklearn_crfsuite import metrics\n",
        "from collections import Counter"
      ],
      "metadata": {
        "id": "K6XFSO7peI2d"
      },
      "execution_count": null,
      "outputs": []
    },
    {
      "cell_type": "code",
      "source": [
        "\n",
        "#Modeling\n",
        "from sklearn.model_selection import cross_val_predict, cross_val_score\n",
        "from sklearn.ensemble import RandomForestClassifier\n",
        "# from sklearn_crfsuite import CRF, scorers, metrics\n",
        "# import sklearn_crfsuite\n",
        "# from sklearn_crfsuite import scorers\n",
        "# from sklearn_crfsuite import metrics\n",
        "# from sklearn_crfsuite.metrics import flat_classification_report\n",
        "from sklearn.metrics import classification_report, make_scorer\n",
        "from sklearn.model_selection import RandomizedSearchCV\n",
        "from sklearn.model_selection import GridSearchCV\n",
        "import scipy.stats\n",
        "#import eli5"
      ],
      "metadata": {
        "id": "PjneDyd9iuON"
      },
      "execution_count": null,
      "outputs": []
    },
    {
      "cell_type": "code",
      "source": [
        "#Random Forest classifier\n",
        "pred = cross_val_predict(RandomForestClassifier(n_estimators=10),X=X_train, y=y_train, cv=3)"
      ],
      "metadata": {
        "id": "6FGtwk8Bfbkh"
      },
      "execution_count": null,
      "outputs": []
    },
    {
      "cell_type": "code",
      "source": [],
      "metadata": {
        "id": "1FEEOq58i4IM"
      },
      "execution_count": null,
      "outputs": []
    }
  ]
}